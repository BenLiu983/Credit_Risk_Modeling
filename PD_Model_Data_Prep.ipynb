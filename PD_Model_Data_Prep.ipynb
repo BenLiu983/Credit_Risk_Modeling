{
  "nbformat": 4,
  "nbformat_minor": 0,
  "metadata": {
    "kernelspec": {
      "display_name": "Python 3",
      "language": "python",
      "name": "python3"
    },
    "language_info": {
      "codemirror_mode": {
        "name": "ipython",
        "version": 3
      },
      "file_extension": ".py",
      "mimetype": "text/x-python",
      "name": "python",
      "nbconvert_exporter": "python",
      "pygments_lexer": "ipython3",
      "version": "3.7.3"
    },
    "colab": {
      "name": "PD Model - Data Prep.ipynb",
      "provenance": [],
      "collapsed_sections": [],
      "include_colab_link": true
    }
  },
  "cells": [
    {
      "cell_type": "markdown",
      "metadata": {
        "id": "view-in-github",
        "colab_type": "text"
      },
      "source": [
        "<a href=\"https://colab.research.google.com/github/BenLiu983/Credit_Risk_Modeling/blob/main/PD_Model_Data_Prep.ipynb\" target=\"_parent\"><img src=\"https://colab.research.google.com/assets/colab-badge.svg\" alt=\"Open In Colab\"/></a>"
      ]
    },
    {
      "cell_type": "markdown",
      "metadata": {
        "id": "d3-JLkjMYz7i"
      },
      "source": [
        "# Data Preparation"
      ]
    },
    {
      "cell_type": "code",
      "metadata": {
        "colab": {
          "base_uri": "https://localhost:8080/"
        },
        "id": "m7ZNFNIraIkF",
        "outputId": "cca77d11-5b43-4018-f266-d8c04331c8fb"
      },
      "source": [
        "from google.colab import drive\n",
        "drive.mount('/content/drive')"
      ],
      "execution_count": null,
      "outputs": [
        {
          "output_type": "stream",
          "name": "stdout",
          "text": [
            "Drive already mounted at /content/drive; to attempt to forcibly remount, call drive.mount(\"/content/drive\", force_remount=True).\n"
          ]
        }
      ]
    },
    {
      "cell_type": "markdown",
      "metadata": {
        "id": "YnLho9l7Yz7r"
      },
      "source": [
        "## Import Libraries"
      ]
    },
    {
      "cell_type": "code",
      "metadata": {
        "id": "clPXzwKU5Rsv"
      },
      "source": [
        "import pandas as pd\n",
        "import numpy as np"
      ],
      "execution_count": null,
      "outputs": []
    },
    {
      "cell_type": "markdown",
      "metadata": {
        "id": "T974k-NM8dKG"
      },
      "source": [
        "## Import Data from Previous Notebook"
      ]
    },
    {
      "cell_type": "code",
      "metadata": {
        "colab": {
          "base_uri": "https://localhost:8080/"
        },
        "id": "myPDWZl26wNo",
        "outputId": "7c7ed685-476a-463e-ab03-6c0ba7287d90"
      },
      "source": [
        "loan_data = pd.read_csv('/content/drive/MyDrive/Credit Risk Modeling/loan_data.csv')"
      ],
      "execution_count": null,
      "outputs": [
        {
          "output_type": "stream",
          "name": "stderr",
          "text": [
            "/usr/local/lib/python3.7/dist-packages/IPython/core/interactiveshell.py:2718: DtypeWarning: Columns (21,49) have mixed types.Specify dtype option on import or set low_memory=False.\n",
            "  interactivity=interactivity, compiler=compiler, result=result)\n"
          ]
        }
      ]
    },
    {
      "cell_type": "markdown",
      "metadata": {
        "id": "X25014_R7QCA"
      },
      "source": [
        "# PD model"
      ]
    },
    {
      "cell_type": "markdown",
      "metadata": {
        "id": "m-bnpUxy7UXa"
      },
      "source": [
        "## Data preparation"
      ]
    },
    {
      "cell_type": "markdown",
      "metadata": {
        "id": "7cU4kQUf7TWX"
      },
      "source": [
        "### Dependent Variable. Good/ Bad (Default) Definition. Default and Non-default Accounts."
      ]
    },
    {
      "cell_type": "code",
      "metadata": {
        "colab": {
          "base_uri": "https://localhost:8080/"
        },
        "id": "__oA-I6U7TOZ",
        "outputId": "478acbb1-6d3d-45d7-925f-305b6b901e13"
      },
      "source": [
        "loan_data['loan_status'].unique()\n",
        "# Displays unique values of a column."
      ],
      "execution_count": null,
      "outputs": [
        {
          "output_type": "execute_result",
          "data": {
            "text/plain": [
              "array(['Fully Paid', 'Charged Off', 'Current', 'Default',\n",
              "       'Late (31-120 days)', 'In Grace Period', 'Late (16-30 days)',\n",
              "       'Does not meet the credit policy. Status:Fully Paid',\n",
              "       'Does not meet the credit policy. Status:Charged Off'],\n",
              "      dtype=object)"
            ]
          },
          "metadata": {},
          "execution_count": 4
        }
      ]
    },
    {
      "cell_type": "code",
      "metadata": {
        "colab": {
          "base_uri": "https://localhost:8080/"
        },
        "id": "-KsmKm8L8Czw",
        "outputId": "19be72c0-dfda-48eb-f0e4-4684d6050678"
      },
      "source": [
        "loan_data['loan_status'].value_counts()\n",
        "# Calculates the number of observations for each unique value of a variable."
      ],
      "execution_count": null,
      "outputs": [
        {
          "output_type": "execute_result",
          "data": {
            "text/plain": [
              "Current                                                224226\n",
              "Fully Paid                                             184739\n",
              "Charged Off                                             42475\n",
              "Late (31-120 days)                                       6900\n",
              "In Grace Period                                          3146\n",
              "Does not meet the credit policy. Status:Fully Paid       1988\n",
              "Late (16-30 days)                                        1218\n",
              "Default                                                   832\n",
              "Does not meet the credit policy. Status:Charged Off       761\n",
              "Name: loan_status, dtype: int64"
            ]
          },
          "metadata": {},
          "execution_count": 5
        }
      ]
    },
    {
      "cell_type": "code",
      "metadata": {
        "colab": {
          "base_uri": "https://localhost:8080/"
        },
        "id": "iLi0vR5V8FR3",
        "outputId": "3c048cbc-a3bc-439f-d922-0238f3aa8a1d"
      },
      "source": [
        "loan_data['loan_status'].value_counts() / loan_data['loan_status'].count()\n",
        "# We divide the number of observations for each unique value of a variable by the total number of observations.\n",
        "# Thus, we get the proportion of observations for each unique value of a variable."
      ],
      "execution_count": null,
      "outputs": [
        {
          "output_type": "execute_result",
          "data": {
            "text/plain": [
              "Current                                                0.480878\n",
              "Fully Paid                                             0.396193\n",
              "Charged Off                                            0.091092\n",
              "Late (31-120 days)                                     0.014798\n",
              "In Grace Period                                        0.006747\n",
              "Does not meet the credit policy. Status:Fully Paid     0.004263\n",
              "Late (16-30 days)                                      0.002612\n",
              "Default                                                0.001784\n",
              "Does not meet the credit policy. Status:Charged Off    0.001632\n",
              "Name: loan_status, dtype: float64"
            ]
          },
          "metadata": {},
          "execution_count": 6
        }
      ]
    },
    {
      "cell_type": "code",
      "metadata": {
        "id": "beeiVohr8H8L"
      },
      "source": [
        "# Good/ Bad Definition\n",
        "loan_data['good_bad'] = np.where(loan_data['loan_status'].isin(['Charged Off', 'Default',\n",
        "                                                       'Does not meet the credit policy. Status:Charged Off',\n",
        "                                                       'Late (31-120 days)']), 0, 1)\n",
        "# We create a new variable that has the value of '0' if a condition is met, and the value of '1' if it is not met."
      ],
      "execution_count": null,
      "outputs": []
    },
    {
      "cell_type": "code",
      "metadata": {
        "colab": {
          "base_uri": "https://localhost:8080/"
        },
        "id": "F_AwOd5l8KeD",
        "outputId": "4d4cb8e2-56a8-4f41-e9ce-f095df1e222d"
      },
      "source": [
        "loan_data['good_bad']"
      ],
      "execution_count": null,
      "outputs": [
        {
          "output_type": "execute_result",
          "data": {
            "text/plain": [
              "0         1\n",
              "1         0\n",
              "2         1\n",
              "3         1\n",
              "4         1\n",
              "         ..\n",
              "466280    1\n",
              "466281    0\n",
              "466282    1\n",
              "466283    1\n",
              "466284    1\n",
              "Name: good_bad, Length: 466285, dtype: int64"
            ]
          },
          "metadata": {},
          "execution_count": 8
        }
      ]
    },
    {
      "cell_type": "markdown",
      "metadata": {
        "id": "xcHjBWo685jg"
      },
      "source": [
        "### Splitting Data"
      ]
    },
    {
      "cell_type": "code",
      "metadata": {
        "id": "01dx5jeC86HX"
      },
      "source": [
        "from sklearn.model_selection import train_test_split\n",
        "# Imports the libraries we need."
      ],
      "execution_count": null,
      "outputs": []
    },
    {
      "cell_type": "code",
      "metadata": {
        "colab": {
          "base_uri": "https://localhost:8080/"
        },
        "id": "8X2v1djz9LaJ",
        "outputId": "26aa9e2a-4f59-4c7c-89b0-47d086ed472b"
      },
      "source": [
        "train_test_split(loan_data.drop('good_bad', axis = 1), loan_data['good_bad'])\n",
        "# Takes a set of inputs and a set of targets as arguments. Splits the inputs and the targets into four dataframes:\n",
        "# Inputs - Train, Inputs - Test, Targets - Train, Targets - Test."
      ],
      "execution_count": null,
      "outputs": [
        {
          "output_type": "execute_result",
          "data": {
            "text/plain": [
              "[        Unnamed: 0  Unnamed: 0.1  ...  initial_list_status:f  initial_list_status:w\n",
              " 351473      351473        351473  ...                      1                      0\n",
              " 383988      383988        383988  ...                      1                      0\n",
              " 408340      408340        408340  ...                      1                      0\n",
              " 141439      141439        141439  ...                      1                      0\n",
              " 306274      306274        306274  ...                      0                      1\n",
              " ...            ...           ...  ...                    ...                    ...\n",
              " 291696      291696        291696  ...                      1                      0\n",
              " 115607      115607        115607  ...                      0                      1\n",
              " 428782      428782        428782  ...                      0                      1\n",
              " 454119      454119        454119  ...                      0                      1\n",
              " 260622      260622        260622  ...                      0                      1\n",
              " \n",
              " [349713 rows x 208 columns],\n",
              "         Unnamed: 0  Unnamed: 0.1  ...  initial_list_status:f  initial_list_status:w\n",
              " 279011      279011        279011  ...                      1                      0\n",
              " 322223      322223        322223  ...                      1                      0\n",
              " 276015      276015        276015  ...                      1                      0\n",
              " 436917      436917        436917  ...                      1                      0\n",
              " 146457      146457        146457  ...                      0                      1\n",
              " ...            ...           ...  ...                    ...                    ...\n",
              " 314686      314686        314686  ...                      0                      1\n",
              " 108141      108141        108141  ...                      0                      1\n",
              " 56825        56825         56825  ...                      1                      0\n",
              " 6410          6410          6410  ...                      1                      0\n",
              " 57072        57072         57072  ...                      1                      0\n",
              " \n",
              " [116572 rows x 208 columns],\n",
              " 351473    1\n",
              " 383988    1\n",
              " 408340    0\n",
              " 141439    1\n",
              " 306274    1\n",
              "          ..\n",
              " 291696    1\n",
              " 115607    1\n",
              " 428782    1\n",
              " 454119    1\n",
              " 260622    1\n",
              " Name: good_bad, Length: 349713, dtype: int64,\n",
              " 279011    1\n",
              " 322223    1\n",
              " 276015    1\n",
              " 436917    1\n",
              " 146457    1\n",
              "          ..\n",
              " 314686    1\n",
              " 108141    1\n",
              " 56825     1\n",
              " 6410      1\n",
              " 57072     1\n",
              " Name: good_bad, Length: 116572, dtype: int64]"
            ]
          },
          "metadata": {},
          "execution_count": 10
        }
      ]
    },
    {
      "cell_type": "code",
      "metadata": {
        "id": "91-C1Ol39R7C"
      },
      "source": [
        "loan_data_inputs_train, loan_data_inputs_test, loan_data_targets_train, loan_data_targets_test = train_test_split(loan_data.drop('good_bad', axis = 1), loan_data['good_bad'])\n",
        "# We split two dataframes with inputs and targets, each into a train and test dataframe, and store them in variables."
      ],
      "execution_count": null,
      "outputs": []
    },
    {
      "cell_type": "code",
      "metadata": {
        "colab": {
          "base_uri": "https://localhost:8080/"
        },
        "id": "lov4i32y9jQw",
        "outputId": "7d5d618e-3099-4b63-9e3b-4d559de59c58"
      },
      "source": [
        "loan_data_inputs_train.shape\n",
        "# Displays the size of the dataframe."
      ],
      "execution_count": null,
      "outputs": [
        {
          "output_type": "execute_result",
          "data": {
            "text/plain": [
              "(349713, 208)"
            ]
          },
          "metadata": {},
          "execution_count": 12
        }
      ]
    },
    {
      "cell_type": "code",
      "metadata": {
        "colab": {
          "base_uri": "https://localhost:8080/"
        },
        "id": "fiLf__WF9uSF",
        "outputId": "05831a40-4b01-4c9c-b1df-fb2fe33305ee"
      },
      "source": [
        "loan_data_targets_train.shape\n",
        "# Displays the size of the dataframe."
      ],
      "execution_count": null,
      "outputs": [
        {
          "output_type": "execute_result",
          "data": {
            "text/plain": [
              "(349713,)"
            ]
          },
          "metadata": {},
          "execution_count": 13
        }
      ]
    },
    {
      "cell_type": "code",
      "metadata": {
        "colab": {
          "base_uri": "https://localhost:8080/"
        },
        "id": "ckFOgBuz9x6k",
        "outputId": "e3972292-5d14-4929-fa27-3e461d2a410a"
      },
      "source": [
        "loan_data_inputs_test.shape\n",
        "# Displays the size of the dataframe."
      ],
      "execution_count": null,
      "outputs": [
        {
          "output_type": "execute_result",
          "data": {
            "text/plain": [
              "(116572, 208)"
            ]
          },
          "metadata": {},
          "execution_count": 14
        }
      ]
    },
    {
      "cell_type": "code",
      "metadata": {
        "colab": {
          "base_uri": "https://localhost:8080/"
        },
        "id": "gnwbLH7g92F9",
        "outputId": "efec967c-3dfd-4116-93b6-aff64bb6e8a6"
      },
      "source": [
        "loan_data_targets_test.shape\n",
        "# Displays the size of the dataframe."
      ],
      "execution_count": null,
      "outputs": [
        {
          "output_type": "execute_result",
          "data": {
            "text/plain": [
              "(116572,)"
            ]
          },
          "metadata": {},
          "execution_count": 15
        }
      ]
    },
    {
      "cell_type": "code",
      "metadata": {
        "id": "l6GwUcGo98U6"
      },
      "source": [
        "loan_data_inputs_train, loan_data_inputs_test, loan_data_targets_train, loan_data_targets_test = train_test_split(loan_data.drop('good_bad', axis = 1), loan_data['good_bad'], test_size = 0.2, random_state = 42)\n",
        "# We split two dataframes with inputs and targets, each into a train and test dataframe, and store them in variables.\n",
        "# This time we set the size of the test dataset to be 20%.\n",
        "# Respectively, the size of the train dataset becomes 80%.\n",
        "# We also set a specific random state.\n",
        "# This would allow us to perform the exact same split multimple times.\n",
        "# This means, to assign the exact same observations to the train and test datasets."
      ],
      "execution_count": null,
      "outputs": []
    },
    {
      "cell_type": "code",
      "metadata": {
        "colab": {
          "base_uri": "https://localhost:8080/"
        },
        "id": "FU8IPkCw-Kxa",
        "outputId": "48e93c74-dee0-447f-85ac-8c2b42d016a0"
      },
      "source": [
        "loan_data_inputs_train.shape\n",
        "# Displays the size of the dataframe."
      ],
      "execution_count": null,
      "outputs": [
        {
          "output_type": "execute_result",
          "data": {
            "text/plain": [
              "(373028, 208)"
            ]
          },
          "metadata": {},
          "execution_count": 17
        }
      ]
    },
    {
      "cell_type": "code",
      "metadata": {
        "colab": {
          "base_uri": "https://localhost:8080/"
        },
        "id": "T1a5Fg5z-OEL",
        "outputId": "3fbf9b09-2df1-4362-87b2-42e0b639e2c5"
      },
      "source": [
        "loan_data_targets_train.shape\n",
        "# Displays the size of the dataframe."
      ],
      "execution_count": null,
      "outputs": [
        {
          "output_type": "execute_result",
          "data": {
            "text/plain": [
              "(373028,)"
            ]
          },
          "metadata": {},
          "execution_count": 18
        }
      ]
    },
    {
      "cell_type": "code",
      "metadata": {
        "colab": {
          "base_uri": "https://localhost:8080/"
        },
        "id": "TuS8NaNx-TEq",
        "outputId": "9bc22c93-1468-4fb9-a93e-21b426f18e30"
      },
      "source": [
        "loan_data_inputs_test.shape\n",
        "# Displays the size of the dataframe."
      ],
      "execution_count": null,
      "outputs": [
        {
          "output_type": "execute_result",
          "data": {
            "text/plain": [
              "(93257, 208)"
            ]
          },
          "metadata": {},
          "execution_count": 19
        }
      ]
    },
    {
      "cell_type": "code",
      "metadata": {
        "colab": {
          "base_uri": "https://localhost:8080/"
        },
        "id": "LRWralGa-VeU",
        "outputId": "a4549436-05b9-4983-e81f-2ce769070cdf"
      },
      "source": [
        "loan_data_targets_test.shape\n",
        "# Displays the size of the dataframe."
      ],
      "execution_count": null,
      "outputs": [
        {
          "output_type": "execute_result",
          "data": {
            "text/plain": [
              "(93257,)"
            ]
          },
          "metadata": {},
          "execution_count": 20
        }
      ]
    },
    {
      "cell_type": "markdown",
      "metadata": {
        "id": "MqUv89hB-v6z"
      },
      "source": [
        "### Data Preparation: An Example"
      ]
    },
    {
      "cell_type": "code",
      "metadata": {
        "id": "A1dMEMW_-YqD"
      },
      "source": [
        "#####\n",
        "df_inputs_prepr = loan_data_inputs_train\n",
        "df_targets_prepr = loan_data_targets_train\n",
        "#####\n",
        "#df_inputs_prepr = loan_data_inputs_test\n",
        "#df_targets_prepr = loan_data_targets_test"
      ],
      "execution_count": null,
      "outputs": []
    },
    {
      "cell_type": "code",
      "metadata": {
        "colab": {
          "base_uri": "https://localhost:8080/"
        },
        "id": "-Nmy7QNZ-zVM",
        "outputId": "0bfcfb88-b559-49b9-9992-4b405b206ce6"
      },
      "source": [
        "df_inputs_prepr['grade'].unique()\n",
        "# Displays unique values of a column."
      ],
      "execution_count": null,
      "outputs": [
        {
          "output_type": "execute_result",
          "data": {
            "text/plain": [
              "array(['A', 'C', 'D', 'B', 'E', 'F', 'G'], dtype=object)"
            ]
          },
          "metadata": {},
          "execution_count": 22
        }
      ]
    },
    {
      "cell_type": "code",
      "metadata": {
        "colab": {
          "base_uri": "https://localhost:8080/",
          "height": 205
        },
        "id": "bRXf1dVw-2E9",
        "outputId": "ad23baf1-7629-4f18-b511-80cb147e168d"
      },
      "source": [
        "df1 = pd.concat([df_inputs_prepr['grade'], df_targets_prepr], axis = 1)\n",
        "# Concatenates two dataframes along the columns.\n",
        "df1.head()"
      ],
      "execution_count": null,
      "outputs": [
        {
          "output_type": "execute_result",
          "data": {
            "text/html": [
              "<div>\n",
              "<style scoped>\n",
              "    .dataframe tbody tr th:only-of-type {\n",
              "        vertical-align: middle;\n",
              "    }\n",
              "\n",
              "    .dataframe tbody tr th {\n",
              "        vertical-align: top;\n",
              "    }\n",
              "\n",
              "    .dataframe thead th {\n",
              "        text-align: right;\n",
              "    }\n",
              "</style>\n",
              "<table border=\"1\" class=\"dataframe\">\n",
              "  <thead>\n",
              "    <tr style=\"text-align: right;\">\n",
              "      <th></th>\n",
              "      <th>grade</th>\n",
              "      <th>good_bad</th>\n",
              "    </tr>\n",
              "  </thead>\n",
              "  <tbody>\n",
              "    <tr>\n",
              "      <th>427211</th>\n",
              "      <td>A</td>\n",
              "      <td>1</td>\n",
              "    </tr>\n",
              "    <tr>\n",
              "      <th>206088</th>\n",
              "      <td>C</td>\n",
              "      <td>1</td>\n",
              "    </tr>\n",
              "    <tr>\n",
              "      <th>136020</th>\n",
              "      <td>A</td>\n",
              "      <td>1</td>\n",
              "    </tr>\n",
              "    <tr>\n",
              "      <th>412305</th>\n",
              "      <td>D</td>\n",
              "      <td>0</td>\n",
              "    </tr>\n",
              "    <tr>\n",
              "      <th>36159</th>\n",
              "      <td>C</td>\n",
              "      <td>0</td>\n",
              "    </tr>\n",
              "  </tbody>\n",
              "</table>\n",
              "</div>"
            ],
            "text/plain": [
              "       grade  good_bad\n",
              "427211     A         1\n",
              "206088     C         1\n",
              "136020     A         1\n",
              "412305     D         0\n",
              "36159      C         0"
            ]
          },
          "metadata": {},
          "execution_count": 23
        }
      ]
    },
    {
      "cell_type": "code",
      "metadata": {
        "colab": {
          "base_uri": "https://localhost:8080/",
          "height": 268
        },
        "id": "Or5K5Zgr-4pD",
        "outputId": "63244291-47bb-4ecd-d4d9-424bc729fc2b"
      },
      "source": [
        "df1.groupby(df1.columns.values[0], as_index = False)[df1.columns.values[1]].count()\n",
        "# Groups the data according to a criterion contained in one column.\n",
        "# Does not turn the names of the values of the criterion as indexes.\n",
        "# Aggregates the data in another column, using a selected function.\n",
        "# In this specific case, we group by the column with index 0 and we aggregate the values of the column with index 1.\n",
        "# More specifically, we count them.\n",
        "# In other words, we count the values in the column with index 1 for each value of the column with index 0."
      ],
      "execution_count": null,
      "outputs": [
        {
          "output_type": "execute_result",
          "data": {
            "text/html": [
              "<div>\n",
              "<style scoped>\n",
              "    .dataframe tbody tr th:only-of-type {\n",
              "        vertical-align: middle;\n",
              "    }\n",
              "\n",
              "    .dataframe tbody tr th {\n",
              "        vertical-align: top;\n",
              "    }\n",
              "\n",
              "    .dataframe thead th {\n",
              "        text-align: right;\n",
              "    }\n",
              "</style>\n",
              "<table border=\"1\" class=\"dataframe\">\n",
              "  <thead>\n",
              "    <tr style=\"text-align: right;\">\n",
              "      <th></th>\n",
              "      <th>grade</th>\n",
              "      <th>good_bad</th>\n",
              "    </tr>\n",
              "  </thead>\n",
              "  <tbody>\n",
              "    <tr>\n",
              "      <th>0</th>\n",
              "      <td>A</td>\n",
              "      <td>59759</td>\n",
              "    </tr>\n",
              "    <tr>\n",
              "      <th>1</th>\n",
              "      <td>B</td>\n",
              "      <td>109730</td>\n",
              "    </tr>\n",
              "    <tr>\n",
              "      <th>2</th>\n",
              "      <td>C</td>\n",
              "      <td>100245</td>\n",
              "    </tr>\n",
              "    <tr>\n",
              "      <th>3</th>\n",
              "      <td>D</td>\n",
              "      <td>61498</td>\n",
              "    </tr>\n",
              "    <tr>\n",
              "      <th>4</th>\n",
              "      <td>E</td>\n",
              "      <td>28612</td>\n",
              "    </tr>\n",
              "    <tr>\n",
              "      <th>5</th>\n",
              "      <td>F</td>\n",
              "      <td>10530</td>\n",
              "    </tr>\n",
              "    <tr>\n",
              "      <th>6</th>\n",
              "      <td>G</td>\n",
              "      <td>2654</td>\n",
              "    </tr>\n",
              "  </tbody>\n",
              "</table>\n",
              "</div>"
            ],
            "text/plain": [
              "  grade  good_bad\n",
              "0     A     59759\n",
              "1     B    109730\n",
              "2     C    100245\n",
              "3     D     61498\n",
              "4     E     28612\n",
              "5     F     10530\n",
              "6     G      2654"
            ]
          },
          "metadata": {},
          "execution_count": 24
        }
      ]
    },
    {
      "cell_type": "code",
      "metadata": {
        "colab": {
          "base_uri": "https://localhost:8080/",
          "height": 268
        },
        "id": "TFIoBUD4_JYD",
        "outputId": "34cd2a53-c5ff-4249-9d8e-ccce55850dca"
      },
      "source": [
        "df1.groupby(df1.columns.values[0], as_index = False)[df1.columns.values[1]].mean()\n",
        "# Groups the data according to a criterion contained in one column.\n",
        "# Does not turn the names of the values of the criterion as indexes.\n",
        "# Aggregates the data in another column, using a selected function.\n",
        "# Here we calculate the mean of the values in the column with index 1 for each value of the column with index 0."
      ],
      "execution_count": null,
      "outputs": [
        {
          "output_type": "execute_result",
          "data": {
            "text/html": [
              "<div>\n",
              "<style scoped>\n",
              "    .dataframe tbody tr th:only-of-type {\n",
              "        vertical-align: middle;\n",
              "    }\n",
              "\n",
              "    .dataframe tbody tr th {\n",
              "        vertical-align: top;\n",
              "    }\n",
              "\n",
              "    .dataframe thead th {\n",
              "        text-align: right;\n",
              "    }\n",
              "</style>\n",
              "<table border=\"1\" class=\"dataframe\">\n",
              "  <thead>\n",
              "    <tr style=\"text-align: right;\">\n",
              "      <th></th>\n",
              "      <th>grade</th>\n",
              "      <th>good_bad</th>\n",
              "    </tr>\n",
              "  </thead>\n",
              "  <tbody>\n",
              "    <tr>\n",
              "      <th>0</th>\n",
              "      <td>A</td>\n",
              "      <td>0.961044</td>\n",
              "    </tr>\n",
              "    <tr>\n",
              "      <th>1</th>\n",
              "      <td>B</td>\n",
              "      <td>0.921015</td>\n",
              "    </tr>\n",
              "    <tr>\n",
              "      <th>2</th>\n",
              "      <td>C</td>\n",
              "      <td>0.885770</td>\n",
              "    </tr>\n",
              "    <tr>\n",
              "      <th>3</th>\n",
              "      <td>D</td>\n",
              "      <td>0.846304</td>\n",
              "    </tr>\n",
              "    <tr>\n",
              "      <th>4</th>\n",
              "      <td>E</td>\n",
              "      <td>0.805257</td>\n",
              "    </tr>\n",
              "    <tr>\n",
              "      <th>5</th>\n",
              "      <td>F</td>\n",
              "      <td>0.754416</td>\n",
              "    </tr>\n",
              "    <tr>\n",
              "      <th>6</th>\n",
              "      <td>G</td>\n",
              "      <td>0.727958</td>\n",
              "    </tr>\n",
              "  </tbody>\n",
              "</table>\n",
              "</div>"
            ],
            "text/plain": [
              "  grade  good_bad\n",
              "0     A  0.961044\n",
              "1     B  0.921015\n",
              "2     C  0.885770\n",
              "3     D  0.846304\n",
              "4     E  0.805257\n",
              "5     F  0.754416\n",
              "6     G  0.727958"
            ]
          },
          "metadata": {},
          "execution_count": 25
        }
      ]
    },
    {
      "cell_type": "code",
      "metadata": {
        "id": "Ah7wuYIm_MVM"
      },
      "source": [
        "df1 = pd.concat([df1.groupby(df1.columns.values[0], as_index = False)[df1.columns.values[1]].count(),\n",
        "                df1.groupby(df1.columns.values[0], as_index = False)[df1.columns.values[1]].mean()], axis = 1)\n",
        "# Concatenates two dataframes along the columns."
      ],
      "execution_count": null,
      "outputs": []
    },
    {
      "cell_type": "code",
      "metadata": {
        "colab": {
          "base_uri": "https://localhost:8080/",
          "height": 268
        },
        "id": "lfljTe-v_SLE",
        "outputId": "8b4cee56-2d81-4c55-809b-8c9a0bf4ede7"
      },
      "source": [
        "df1"
      ],
      "execution_count": null,
      "outputs": [
        {
          "output_type": "execute_result",
          "data": {
            "text/html": [
              "<div>\n",
              "<style scoped>\n",
              "    .dataframe tbody tr th:only-of-type {\n",
              "        vertical-align: middle;\n",
              "    }\n",
              "\n",
              "    .dataframe tbody tr th {\n",
              "        vertical-align: top;\n",
              "    }\n",
              "\n",
              "    .dataframe thead th {\n",
              "        text-align: right;\n",
              "    }\n",
              "</style>\n",
              "<table border=\"1\" class=\"dataframe\">\n",
              "  <thead>\n",
              "    <tr style=\"text-align: right;\">\n",
              "      <th></th>\n",
              "      <th>grade</th>\n",
              "      <th>good_bad</th>\n",
              "      <th>grade</th>\n",
              "      <th>good_bad</th>\n",
              "    </tr>\n",
              "  </thead>\n",
              "  <tbody>\n",
              "    <tr>\n",
              "      <th>0</th>\n",
              "      <td>A</td>\n",
              "      <td>59759</td>\n",
              "      <td>A</td>\n",
              "      <td>0.961044</td>\n",
              "    </tr>\n",
              "    <tr>\n",
              "      <th>1</th>\n",
              "      <td>B</td>\n",
              "      <td>109730</td>\n",
              "      <td>B</td>\n",
              "      <td>0.921015</td>\n",
              "    </tr>\n",
              "    <tr>\n",
              "      <th>2</th>\n",
              "      <td>C</td>\n",
              "      <td>100245</td>\n",
              "      <td>C</td>\n",
              "      <td>0.885770</td>\n",
              "    </tr>\n",
              "    <tr>\n",
              "      <th>3</th>\n",
              "      <td>D</td>\n",
              "      <td>61498</td>\n",
              "      <td>D</td>\n",
              "      <td>0.846304</td>\n",
              "    </tr>\n",
              "    <tr>\n",
              "      <th>4</th>\n",
              "      <td>E</td>\n",
              "      <td>28612</td>\n",
              "      <td>E</td>\n",
              "      <td>0.805257</td>\n",
              "    </tr>\n",
              "    <tr>\n",
              "      <th>5</th>\n",
              "      <td>F</td>\n",
              "      <td>10530</td>\n",
              "      <td>F</td>\n",
              "      <td>0.754416</td>\n",
              "    </tr>\n",
              "    <tr>\n",
              "      <th>6</th>\n",
              "      <td>G</td>\n",
              "      <td>2654</td>\n",
              "      <td>G</td>\n",
              "      <td>0.727958</td>\n",
              "    </tr>\n",
              "  </tbody>\n",
              "</table>\n",
              "</div>"
            ],
            "text/plain": [
              "  grade  good_bad grade  good_bad\n",
              "0     A     59759     A  0.961044\n",
              "1     B    109730     B  0.921015\n",
              "2     C    100245     C  0.885770\n",
              "3     D     61498     D  0.846304\n",
              "4     E     28612     E  0.805257\n",
              "5     F     10530     F  0.754416\n",
              "6     G      2654     G  0.727958"
            ]
          },
          "metadata": {},
          "execution_count": 27
        }
      ]
    },
    {
      "cell_type": "code",
      "metadata": {
        "colab": {
          "base_uri": "https://localhost:8080/",
          "height": 268
        },
        "id": "vYi5oqh4_wsg",
        "outputId": "a8cab56a-8bd5-49a9-8706-34d8c4bb6d57"
      },
      "source": [
        "df1 = df1.iloc[:, [0, 1, 3]]\n",
        "# Selects only columns with specific indexes.\n",
        "df1"
      ],
      "execution_count": null,
      "outputs": [
        {
          "output_type": "execute_result",
          "data": {
            "text/html": [
              "<div>\n",
              "<style scoped>\n",
              "    .dataframe tbody tr th:only-of-type {\n",
              "        vertical-align: middle;\n",
              "    }\n",
              "\n",
              "    .dataframe tbody tr th {\n",
              "        vertical-align: top;\n",
              "    }\n",
              "\n",
              "    .dataframe thead th {\n",
              "        text-align: right;\n",
              "    }\n",
              "</style>\n",
              "<table border=\"1\" class=\"dataframe\">\n",
              "  <thead>\n",
              "    <tr style=\"text-align: right;\">\n",
              "      <th></th>\n",
              "      <th>grade</th>\n",
              "      <th>good_bad</th>\n",
              "      <th>good_bad</th>\n",
              "    </tr>\n",
              "  </thead>\n",
              "  <tbody>\n",
              "    <tr>\n",
              "      <th>0</th>\n",
              "      <td>A</td>\n",
              "      <td>59759</td>\n",
              "      <td>0.961044</td>\n",
              "    </tr>\n",
              "    <tr>\n",
              "      <th>1</th>\n",
              "      <td>B</td>\n",
              "      <td>109730</td>\n",
              "      <td>0.921015</td>\n",
              "    </tr>\n",
              "    <tr>\n",
              "      <th>2</th>\n",
              "      <td>C</td>\n",
              "      <td>100245</td>\n",
              "      <td>0.885770</td>\n",
              "    </tr>\n",
              "    <tr>\n",
              "      <th>3</th>\n",
              "      <td>D</td>\n",
              "      <td>61498</td>\n",
              "      <td>0.846304</td>\n",
              "    </tr>\n",
              "    <tr>\n",
              "      <th>4</th>\n",
              "      <td>E</td>\n",
              "      <td>28612</td>\n",
              "      <td>0.805257</td>\n",
              "    </tr>\n",
              "    <tr>\n",
              "      <th>5</th>\n",
              "      <td>F</td>\n",
              "      <td>10530</td>\n",
              "      <td>0.754416</td>\n",
              "    </tr>\n",
              "    <tr>\n",
              "      <th>6</th>\n",
              "      <td>G</td>\n",
              "      <td>2654</td>\n",
              "      <td>0.727958</td>\n",
              "    </tr>\n",
              "  </tbody>\n",
              "</table>\n",
              "</div>"
            ],
            "text/plain": [
              "  grade  good_bad  good_bad\n",
              "0     A     59759  0.961044\n",
              "1     B    109730  0.921015\n",
              "2     C    100245  0.885770\n",
              "3     D     61498  0.846304\n",
              "4     E     28612  0.805257\n",
              "5     F     10530  0.754416\n",
              "6     G      2654  0.727958"
            ]
          },
          "metadata": {},
          "execution_count": 28
        }
      ]
    },
    {
      "cell_type": "code",
      "metadata": {
        "colab": {
          "base_uri": "https://localhost:8080/",
          "height": 268
        },
        "id": "e-P9gJiO_4zH",
        "outputId": "a2a73415-975a-4aa6-f8f9-b14cf0689fdf"
      },
      "source": [
        "df1.columns = [df1.columns.values[0], 'n_obs', 'prop_good']\n",
        "# Changes the names of the columns of a dataframe.\n",
        "df1"
      ],
      "execution_count": null,
      "outputs": [
        {
          "output_type": "execute_result",
          "data": {
            "text/html": [
              "<div>\n",
              "<style scoped>\n",
              "    .dataframe tbody tr th:only-of-type {\n",
              "        vertical-align: middle;\n",
              "    }\n",
              "\n",
              "    .dataframe tbody tr th {\n",
              "        vertical-align: top;\n",
              "    }\n",
              "\n",
              "    .dataframe thead th {\n",
              "        text-align: right;\n",
              "    }\n",
              "</style>\n",
              "<table border=\"1\" class=\"dataframe\">\n",
              "  <thead>\n",
              "    <tr style=\"text-align: right;\">\n",
              "      <th></th>\n",
              "      <th>grade</th>\n",
              "      <th>n_obs</th>\n",
              "      <th>prop_good</th>\n",
              "    </tr>\n",
              "  </thead>\n",
              "  <tbody>\n",
              "    <tr>\n",
              "      <th>0</th>\n",
              "      <td>A</td>\n",
              "      <td>59759</td>\n",
              "      <td>0.961044</td>\n",
              "    </tr>\n",
              "    <tr>\n",
              "      <th>1</th>\n",
              "      <td>B</td>\n",
              "      <td>109730</td>\n",
              "      <td>0.921015</td>\n",
              "    </tr>\n",
              "    <tr>\n",
              "      <th>2</th>\n",
              "      <td>C</td>\n",
              "      <td>100245</td>\n",
              "      <td>0.885770</td>\n",
              "    </tr>\n",
              "    <tr>\n",
              "      <th>3</th>\n",
              "      <td>D</td>\n",
              "      <td>61498</td>\n",
              "      <td>0.846304</td>\n",
              "    </tr>\n",
              "    <tr>\n",
              "      <th>4</th>\n",
              "      <td>E</td>\n",
              "      <td>28612</td>\n",
              "      <td>0.805257</td>\n",
              "    </tr>\n",
              "    <tr>\n",
              "      <th>5</th>\n",
              "      <td>F</td>\n",
              "      <td>10530</td>\n",
              "      <td>0.754416</td>\n",
              "    </tr>\n",
              "    <tr>\n",
              "      <th>6</th>\n",
              "      <td>G</td>\n",
              "      <td>2654</td>\n",
              "      <td>0.727958</td>\n",
              "    </tr>\n",
              "  </tbody>\n",
              "</table>\n",
              "</div>"
            ],
            "text/plain": [
              "  grade   n_obs  prop_good\n",
              "0     A   59759   0.961044\n",
              "1     B  109730   0.921015\n",
              "2     C  100245   0.885770\n",
              "3     D   61498   0.846304\n",
              "4     E   28612   0.805257\n",
              "5     F   10530   0.754416\n",
              "6     G    2654   0.727958"
            ]
          },
          "metadata": {},
          "execution_count": 29
        }
      ]
    },
    {
      "cell_type": "code",
      "metadata": {
        "colab": {
          "base_uri": "https://localhost:8080/",
          "height": 268
        },
        "id": "Cc8GGHIgAIi5",
        "outputId": "8dc27444-1716-4891-8bbb-eb2bd69f6e68"
      },
      "source": [
        "df1['prop_n_obs'] = df1['n_obs'] / df1['n_obs'].sum()\n",
        "# We divide the values of one column by he values of another column and save the result in a new variable.\n",
        "df1"
      ],
      "execution_count": null,
      "outputs": [
        {
          "output_type": "execute_result",
          "data": {
            "text/html": [
              "<div>\n",
              "<style scoped>\n",
              "    .dataframe tbody tr th:only-of-type {\n",
              "        vertical-align: middle;\n",
              "    }\n",
              "\n",
              "    .dataframe tbody tr th {\n",
              "        vertical-align: top;\n",
              "    }\n",
              "\n",
              "    .dataframe thead th {\n",
              "        text-align: right;\n",
              "    }\n",
              "</style>\n",
              "<table border=\"1\" class=\"dataframe\">\n",
              "  <thead>\n",
              "    <tr style=\"text-align: right;\">\n",
              "      <th></th>\n",
              "      <th>grade</th>\n",
              "      <th>n_obs</th>\n",
              "      <th>prop_good</th>\n",
              "      <th>prop_n_obs</th>\n",
              "    </tr>\n",
              "  </thead>\n",
              "  <tbody>\n",
              "    <tr>\n",
              "      <th>0</th>\n",
              "      <td>A</td>\n",
              "      <td>59759</td>\n",
              "      <td>0.961044</td>\n",
              "      <td>0.160200</td>\n",
              "    </tr>\n",
              "    <tr>\n",
              "      <th>1</th>\n",
              "      <td>B</td>\n",
              "      <td>109730</td>\n",
              "      <td>0.921015</td>\n",
              "      <td>0.294160</td>\n",
              "    </tr>\n",
              "    <tr>\n",
              "      <th>2</th>\n",
              "      <td>C</td>\n",
              "      <td>100245</td>\n",
              "      <td>0.885770</td>\n",
              "      <td>0.268733</td>\n",
              "    </tr>\n",
              "    <tr>\n",
              "      <th>3</th>\n",
              "      <td>D</td>\n",
              "      <td>61498</td>\n",
              "      <td>0.846304</td>\n",
              "      <td>0.164862</td>\n",
              "    </tr>\n",
              "    <tr>\n",
              "      <th>4</th>\n",
              "      <td>E</td>\n",
              "      <td>28612</td>\n",
              "      <td>0.805257</td>\n",
              "      <td>0.076702</td>\n",
              "    </tr>\n",
              "    <tr>\n",
              "      <th>5</th>\n",
              "      <td>F</td>\n",
              "      <td>10530</td>\n",
              "      <td>0.754416</td>\n",
              "      <td>0.028228</td>\n",
              "    </tr>\n",
              "    <tr>\n",
              "      <th>6</th>\n",
              "      <td>G</td>\n",
              "      <td>2654</td>\n",
              "      <td>0.727958</td>\n",
              "      <td>0.007115</td>\n",
              "    </tr>\n",
              "  </tbody>\n",
              "</table>\n",
              "</div>"
            ],
            "text/plain": [
              "  grade   n_obs  prop_good  prop_n_obs\n",
              "0     A   59759   0.961044    0.160200\n",
              "1     B  109730   0.921015    0.294160\n",
              "2     C  100245   0.885770    0.268733\n",
              "3     D   61498   0.846304    0.164862\n",
              "4     E   28612   0.805257    0.076702\n",
              "5     F   10530   0.754416    0.028228\n",
              "6     G    2654   0.727958    0.007115"
            ]
          },
          "metadata": {},
          "execution_count": 30
        }
      ]
    },
    {
      "cell_type": "code",
      "metadata": {
        "colab": {
          "base_uri": "https://localhost:8080/",
          "height": 268
        },
        "id": "JUWR3uLdARlF",
        "outputId": "5d80e103-a295-48c8-9357-441008993030"
      },
      "source": [
        "df1['n_good'] = df1['prop_good'] * df1['n_obs']\n",
        "# We multiply the values of one column by he values of another column and save the result in a new variable.\n",
        "df1['n_bad'] = (1 - df1['prop_good']) * df1['n_obs']\n",
        "df1"
      ],
      "execution_count": null,
      "outputs": [
        {
          "output_type": "execute_result",
          "data": {
            "text/html": [
              "<div>\n",
              "<style scoped>\n",
              "    .dataframe tbody tr th:only-of-type {\n",
              "        vertical-align: middle;\n",
              "    }\n",
              "\n",
              "    .dataframe tbody tr th {\n",
              "        vertical-align: top;\n",
              "    }\n",
              "\n",
              "    .dataframe thead th {\n",
              "        text-align: right;\n",
              "    }\n",
              "</style>\n",
              "<table border=\"1\" class=\"dataframe\">\n",
              "  <thead>\n",
              "    <tr style=\"text-align: right;\">\n",
              "      <th></th>\n",
              "      <th>grade</th>\n",
              "      <th>n_obs</th>\n",
              "      <th>prop_good</th>\n",
              "      <th>prop_n_obs</th>\n",
              "      <th>n_good</th>\n",
              "      <th>n_bad</th>\n",
              "    </tr>\n",
              "  </thead>\n",
              "  <tbody>\n",
              "    <tr>\n",
              "      <th>0</th>\n",
              "      <td>A</td>\n",
              "      <td>59759</td>\n",
              "      <td>0.961044</td>\n",
              "      <td>0.160200</td>\n",
              "      <td>57431.0</td>\n",
              "      <td>2328.0</td>\n",
              "    </tr>\n",
              "    <tr>\n",
              "      <th>1</th>\n",
              "      <td>B</td>\n",
              "      <td>109730</td>\n",
              "      <td>0.921015</td>\n",
              "      <td>0.294160</td>\n",
              "      <td>101063.0</td>\n",
              "      <td>8667.0</td>\n",
              "    </tr>\n",
              "    <tr>\n",
              "      <th>2</th>\n",
              "      <td>C</td>\n",
              "      <td>100245</td>\n",
              "      <td>0.885770</td>\n",
              "      <td>0.268733</td>\n",
              "      <td>88794.0</td>\n",
              "      <td>11451.0</td>\n",
              "    </tr>\n",
              "    <tr>\n",
              "      <th>3</th>\n",
              "      <td>D</td>\n",
              "      <td>61498</td>\n",
              "      <td>0.846304</td>\n",
              "      <td>0.164862</td>\n",
              "      <td>52046.0</td>\n",
              "      <td>9452.0</td>\n",
              "    </tr>\n",
              "    <tr>\n",
              "      <th>4</th>\n",
              "      <td>E</td>\n",
              "      <td>28612</td>\n",
              "      <td>0.805257</td>\n",
              "      <td>0.076702</td>\n",
              "      <td>23040.0</td>\n",
              "      <td>5572.0</td>\n",
              "    </tr>\n",
              "    <tr>\n",
              "      <th>5</th>\n",
              "      <td>F</td>\n",
              "      <td>10530</td>\n",
              "      <td>0.754416</td>\n",
              "      <td>0.028228</td>\n",
              "      <td>7944.0</td>\n",
              "      <td>2586.0</td>\n",
              "    </tr>\n",
              "    <tr>\n",
              "      <th>6</th>\n",
              "      <td>G</td>\n",
              "      <td>2654</td>\n",
              "      <td>0.727958</td>\n",
              "      <td>0.007115</td>\n",
              "      <td>1932.0</td>\n",
              "      <td>722.0</td>\n",
              "    </tr>\n",
              "  </tbody>\n",
              "</table>\n",
              "</div>"
            ],
            "text/plain": [
              "  grade   n_obs  prop_good  prop_n_obs    n_good    n_bad\n",
              "0     A   59759   0.961044    0.160200   57431.0   2328.0\n",
              "1     B  109730   0.921015    0.294160  101063.0   8667.0\n",
              "2     C  100245   0.885770    0.268733   88794.0  11451.0\n",
              "3     D   61498   0.846304    0.164862   52046.0   9452.0\n",
              "4     E   28612   0.805257    0.076702   23040.0   5572.0\n",
              "5     F   10530   0.754416    0.028228    7944.0   2586.0\n",
              "6     G    2654   0.727958    0.007115    1932.0    722.0"
            ]
          },
          "metadata": {},
          "execution_count": 31
        }
      ]
    },
    {
      "cell_type": "code",
      "metadata": {
        "colab": {
          "base_uri": "https://localhost:8080/",
          "height": 268
        },
        "id": "Rugr32p7ATvx",
        "outputId": "9d4743cc-63e2-4142-abdd-3b41f1f1b7cd"
      },
      "source": [
        "df1['prop_n_good'] = df1['n_good'] / df1['n_good'].sum()\n",
        "df1['prop_n_bad'] = df1['n_bad'] / df1['n_bad'].sum()\n",
        "df1"
      ],
      "execution_count": null,
      "outputs": [
        {
          "output_type": "execute_result",
          "data": {
            "text/html": [
              "<div>\n",
              "<style scoped>\n",
              "    .dataframe tbody tr th:only-of-type {\n",
              "        vertical-align: middle;\n",
              "    }\n",
              "\n",
              "    .dataframe tbody tr th {\n",
              "        vertical-align: top;\n",
              "    }\n",
              "\n",
              "    .dataframe thead th {\n",
              "        text-align: right;\n",
              "    }\n",
              "</style>\n",
              "<table border=\"1\" class=\"dataframe\">\n",
              "  <thead>\n",
              "    <tr style=\"text-align: right;\">\n",
              "      <th></th>\n",
              "      <th>grade</th>\n",
              "      <th>n_obs</th>\n",
              "      <th>prop_good</th>\n",
              "      <th>prop_n_obs</th>\n",
              "      <th>n_good</th>\n",
              "      <th>n_bad</th>\n",
              "      <th>prop_n_good</th>\n",
              "      <th>prop_n_bad</th>\n",
              "    </tr>\n",
              "  </thead>\n",
              "  <tbody>\n",
              "    <tr>\n",
              "      <th>0</th>\n",
              "      <td>A</td>\n",
              "      <td>59759</td>\n",
              "      <td>0.961044</td>\n",
              "      <td>0.160200</td>\n",
              "      <td>57431.0</td>\n",
              "      <td>2328.0</td>\n",
              "      <td>0.172855</td>\n",
              "      <td>0.057090</td>\n",
              "    </tr>\n",
              "    <tr>\n",
              "      <th>1</th>\n",
              "      <td>B</td>\n",
              "      <td>109730</td>\n",
              "      <td>0.921015</td>\n",
              "      <td>0.294160</td>\n",
              "      <td>101063.0</td>\n",
              "      <td>8667.0</td>\n",
              "      <td>0.304178</td>\n",
              "      <td>0.212541</td>\n",
              "    </tr>\n",
              "    <tr>\n",
              "      <th>2</th>\n",
              "      <td>C</td>\n",
              "      <td>100245</td>\n",
              "      <td>0.885770</td>\n",
              "      <td>0.268733</td>\n",
              "      <td>88794.0</td>\n",
              "      <td>11451.0</td>\n",
              "      <td>0.267251</td>\n",
              "      <td>0.280813</td>\n",
              "    </tr>\n",
              "    <tr>\n",
              "      <th>3</th>\n",
              "      <td>D</td>\n",
              "      <td>61498</td>\n",
              "      <td>0.846304</td>\n",
              "      <td>0.164862</td>\n",
              "      <td>52046.0</td>\n",
              "      <td>9452.0</td>\n",
              "      <td>0.156647</td>\n",
              "      <td>0.231792</td>\n",
              "    </tr>\n",
              "    <tr>\n",
              "      <th>4</th>\n",
              "      <td>E</td>\n",
              "      <td>28612</td>\n",
              "      <td>0.805257</td>\n",
              "      <td>0.076702</td>\n",
              "      <td>23040.0</td>\n",
              "      <td>5572.0</td>\n",
              "      <td>0.069345</td>\n",
              "      <td>0.136642</td>\n",
              "    </tr>\n",
              "    <tr>\n",
              "      <th>5</th>\n",
              "      <td>F</td>\n",
              "      <td>10530</td>\n",
              "      <td>0.754416</td>\n",
              "      <td>0.028228</td>\n",
              "      <td>7944.0</td>\n",
              "      <td>2586.0</td>\n",
              "      <td>0.023910</td>\n",
              "      <td>0.063417</td>\n",
              "    </tr>\n",
              "    <tr>\n",
              "      <th>6</th>\n",
              "      <td>G</td>\n",
              "      <td>2654</td>\n",
              "      <td>0.727958</td>\n",
              "      <td>0.007115</td>\n",
              "      <td>1932.0</td>\n",
              "      <td>722.0</td>\n",
              "      <td>0.005815</td>\n",
              "      <td>0.017706</td>\n",
              "    </tr>\n",
              "  </tbody>\n",
              "</table>\n",
              "</div>"
            ],
            "text/plain": [
              "  grade   n_obs  prop_good  ...    n_bad  prop_n_good  prop_n_bad\n",
              "0     A   59759   0.961044  ...   2328.0     0.172855    0.057090\n",
              "1     B  109730   0.921015  ...   8667.0     0.304178    0.212541\n",
              "2     C  100245   0.885770  ...  11451.0     0.267251    0.280813\n",
              "3     D   61498   0.846304  ...   9452.0     0.156647    0.231792\n",
              "4     E   28612   0.805257  ...   5572.0     0.069345    0.136642\n",
              "5     F   10530   0.754416  ...   2586.0     0.023910    0.063417\n",
              "6     G    2654   0.727958  ...    722.0     0.005815    0.017706\n",
              "\n",
              "[7 rows x 8 columns]"
            ]
          },
          "metadata": {},
          "execution_count": 32
        }
      ]
    },
    {
      "cell_type": "code",
      "metadata": {
        "colab": {
          "base_uri": "https://localhost:8080/",
          "height": 268
        },
        "id": "4dvFq-odAXD-",
        "outputId": "df627797-aaa4-400c-f243-931b976decb4"
      },
      "source": [
        "df1['WoE'] = np.log(df1['prop_n_good'] / df1['prop_n_bad'])\n",
        "# We take the natural logarithm of a variable and save the result in a nex variable.\n",
        "df1"
      ],
      "execution_count": null,
      "outputs": [
        {
          "output_type": "execute_result",
          "data": {
            "text/html": [
              "<div>\n",
              "<style scoped>\n",
              "    .dataframe tbody tr th:only-of-type {\n",
              "        vertical-align: middle;\n",
              "    }\n",
              "\n",
              "    .dataframe tbody tr th {\n",
              "        vertical-align: top;\n",
              "    }\n",
              "\n",
              "    .dataframe thead th {\n",
              "        text-align: right;\n",
              "    }\n",
              "</style>\n",
              "<table border=\"1\" class=\"dataframe\">\n",
              "  <thead>\n",
              "    <tr style=\"text-align: right;\">\n",
              "      <th></th>\n",
              "      <th>grade</th>\n",
              "      <th>n_obs</th>\n",
              "      <th>prop_good</th>\n",
              "      <th>prop_n_obs</th>\n",
              "      <th>n_good</th>\n",
              "      <th>n_bad</th>\n",
              "      <th>prop_n_good</th>\n",
              "      <th>prop_n_bad</th>\n",
              "      <th>WoE</th>\n",
              "    </tr>\n",
              "  </thead>\n",
              "  <tbody>\n",
              "    <tr>\n",
              "      <th>0</th>\n",
              "      <td>A</td>\n",
              "      <td>59759</td>\n",
              "      <td>0.961044</td>\n",
              "      <td>0.160200</td>\n",
              "      <td>57431.0</td>\n",
              "      <td>2328.0</td>\n",
              "      <td>0.172855</td>\n",
              "      <td>0.057090</td>\n",
              "      <td>1.107830</td>\n",
              "    </tr>\n",
              "    <tr>\n",
              "      <th>1</th>\n",
              "      <td>B</td>\n",
              "      <td>109730</td>\n",
              "      <td>0.921015</td>\n",
              "      <td>0.294160</td>\n",
              "      <td>101063.0</td>\n",
              "      <td>8667.0</td>\n",
              "      <td>0.304178</td>\n",
              "      <td>0.212541</td>\n",
              "      <td>0.358476</td>\n",
              "    </tr>\n",
              "    <tr>\n",
              "      <th>2</th>\n",
              "      <td>C</td>\n",
              "      <td>100245</td>\n",
              "      <td>0.885770</td>\n",
              "      <td>0.268733</td>\n",
              "      <td>88794.0</td>\n",
              "      <td>11451.0</td>\n",
              "      <td>0.267251</td>\n",
              "      <td>0.280813</td>\n",
              "      <td>-0.049503</td>\n",
              "    </tr>\n",
              "    <tr>\n",
              "      <th>3</th>\n",
              "      <td>D</td>\n",
              "      <td>61498</td>\n",
              "      <td>0.846304</td>\n",
              "      <td>0.164862</td>\n",
              "      <td>52046.0</td>\n",
              "      <td>9452.0</td>\n",
              "      <td>0.156647</td>\n",
              "      <td>0.231792</td>\n",
              "      <td>-0.391843</td>\n",
              "    </tr>\n",
              "    <tr>\n",
              "      <th>4</th>\n",
              "      <td>E</td>\n",
              "      <td>28612</td>\n",
              "      <td>0.805257</td>\n",
              "      <td>0.076702</td>\n",
              "      <td>23040.0</td>\n",
              "      <td>5572.0</td>\n",
              "      <td>0.069345</td>\n",
              "      <td>0.136642</td>\n",
              "      <td>-0.678267</td>\n",
              "    </tr>\n",
              "    <tr>\n",
              "      <th>5</th>\n",
              "      <td>F</td>\n",
              "      <td>10530</td>\n",
              "      <td>0.754416</td>\n",
              "      <td>0.028228</td>\n",
              "      <td>7944.0</td>\n",
              "      <td>2586.0</td>\n",
              "      <td>0.023910</td>\n",
              "      <td>0.063417</td>\n",
              "      <td>-0.975440</td>\n",
              "    </tr>\n",
              "    <tr>\n",
              "      <th>6</th>\n",
              "      <td>G</td>\n",
              "      <td>2654</td>\n",
              "      <td>0.727958</td>\n",
              "      <td>0.007115</td>\n",
              "      <td>1932.0</td>\n",
              "      <td>722.0</td>\n",
              "      <td>0.005815</td>\n",
              "      <td>0.017706</td>\n",
              "      <td>-1.113459</td>\n",
              "    </tr>\n",
              "  </tbody>\n",
              "</table>\n",
              "</div>"
            ],
            "text/plain": [
              "  grade   n_obs  prop_good  ...  prop_n_good  prop_n_bad       WoE\n",
              "0     A   59759   0.961044  ...     0.172855    0.057090  1.107830\n",
              "1     B  109730   0.921015  ...     0.304178    0.212541  0.358476\n",
              "2     C  100245   0.885770  ...     0.267251    0.280813 -0.049503\n",
              "3     D   61498   0.846304  ...     0.156647    0.231792 -0.391843\n",
              "4     E   28612   0.805257  ...     0.069345    0.136642 -0.678267\n",
              "5     F   10530   0.754416  ...     0.023910    0.063417 -0.975440\n",
              "6     G    2654   0.727958  ...     0.005815    0.017706 -1.113459\n",
              "\n",
              "[7 rows x 9 columns]"
            ]
          },
          "metadata": {},
          "execution_count": 33
        }
      ]
    },
    {
      "cell_type": "code",
      "metadata": {
        "colab": {
          "base_uri": "https://localhost:8080/",
          "height": 268
        },
        "id": "cMjOCRyxAY5S",
        "outputId": "174c7d2c-dd72-478c-b2ac-3dbe289c5fe8"
      },
      "source": [
        "df1 = df1.sort_values(['WoE'])\n",
        "# Sorts a dataframe by the values of a given column.\n",
        "df1 = df1.reset_index(drop = True)\n",
        "# We reset the index of a dataframe and overwrite it.\n",
        "df1"
      ],
      "execution_count": null,
      "outputs": [
        {
          "output_type": "execute_result",
          "data": {
            "text/html": [
              "<div>\n",
              "<style scoped>\n",
              "    .dataframe tbody tr th:only-of-type {\n",
              "        vertical-align: middle;\n",
              "    }\n",
              "\n",
              "    .dataframe tbody tr th {\n",
              "        vertical-align: top;\n",
              "    }\n",
              "\n",
              "    .dataframe thead th {\n",
              "        text-align: right;\n",
              "    }\n",
              "</style>\n",
              "<table border=\"1\" class=\"dataframe\">\n",
              "  <thead>\n",
              "    <tr style=\"text-align: right;\">\n",
              "      <th></th>\n",
              "      <th>grade</th>\n",
              "      <th>n_obs</th>\n",
              "      <th>prop_good</th>\n",
              "      <th>prop_n_obs</th>\n",
              "      <th>n_good</th>\n",
              "      <th>n_bad</th>\n",
              "      <th>prop_n_good</th>\n",
              "      <th>prop_n_bad</th>\n",
              "      <th>WoE</th>\n",
              "    </tr>\n",
              "  </thead>\n",
              "  <tbody>\n",
              "    <tr>\n",
              "      <th>0</th>\n",
              "      <td>G</td>\n",
              "      <td>2654</td>\n",
              "      <td>0.727958</td>\n",
              "      <td>0.007115</td>\n",
              "      <td>1932.0</td>\n",
              "      <td>722.0</td>\n",
              "      <td>0.005815</td>\n",
              "      <td>0.017706</td>\n",
              "      <td>-1.113459</td>\n",
              "    </tr>\n",
              "    <tr>\n",
              "      <th>1</th>\n",
              "      <td>F</td>\n",
              "      <td>10530</td>\n",
              "      <td>0.754416</td>\n",
              "      <td>0.028228</td>\n",
              "      <td>7944.0</td>\n",
              "      <td>2586.0</td>\n",
              "      <td>0.023910</td>\n",
              "      <td>0.063417</td>\n",
              "      <td>-0.975440</td>\n",
              "    </tr>\n",
              "    <tr>\n",
              "      <th>2</th>\n",
              "      <td>E</td>\n",
              "      <td>28612</td>\n",
              "      <td>0.805257</td>\n",
              "      <td>0.076702</td>\n",
              "      <td>23040.0</td>\n",
              "      <td>5572.0</td>\n",
              "      <td>0.069345</td>\n",
              "      <td>0.136642</td>\n",
              "      <td>-0.678267</td>\n",
              "    </tr>\n",
              "    <tr>\n",
              "      <th>3</th>\n",
              "      <td>D</td>\n",
              "      <td>61498</td>\n",
              "      <td>0.846304</td>\n",
              "      <td>0.164862</td>\n",
              "      <td>52046.0</td>\n",
              "      <td>9452.0</td>\n",
              "      <td>0.156647</td>\n",
              "      <td>0.231792</td>\n",
              "      <td>-0.391843</td>\n",
              "    </tr>\n",
              "    <tr>\n",
              "      <th>4</th>\n",
              "      <td>C</td>\n",
              "      <td>100245</td>\n",
              "      <td>0.885770</td>\n",
              "      <td>0.268733</td>\n",
              "      <td>88794.0</td>\n",
              "      <td>11451.0</td>\n",
              "      <td>0.267251</td>\n",
              "      <td>0.280813</td>\n",
              "      <td>-0.049503</td>\n",
              "    </tr>\n",
              "    <tr>\n",
              "      <th>5</th>\n",
              "      <td>B</td>\n",
              "      <td>109730</td>\n",
              "      <td>0.921015</td>\n",
              "      <td>0.294160</td>\n",
              "      <td>101063.0</td>\n",
              "      <td>8667.0</td>\n",
              "      <td>0.304178</td>\n",
              "      <td>0.212541</td>\n",
              "      <td>0.358476</td>\n",
              "    </tr>\n",
              "    <tr>\n",
              "      <th>6</th>\n",
              "      <td>A</td>\n",
              "      <td>59759</td>\n",
              "      <td>0.961044</td>\n",
              "      <td>0.160200</td>\n",
              "      <td>57431.0</td>\n",
              "      <td>2328.0</td>\n",
              "      <td>0.172855</td>\n",
              "      <td>0.057090</td>\n",
              "      <td>1.107830</td>\n",
              "    </tr>\n",
              "  </tbody>\n",
              "</table>\n",
              "</div>"
            ],
            "text/plain": [
              "  grade   n_obs  prop_good  ...  prop_n_good  prop_n_bad       WoE\n",
              "0     G    2654   0.727958  ...     0.005815    0.017706 -1.113459\n",
              "1     F   10530   0.754416  ...     0.023910    0.063417 -0.975440\n",
              "2     E   28612   0.805257  ...     0.069345    0.136642 -0.678267\n",
              "3     D   61498   0.846304  ...     0.156647    0.231792 -0.391843\n",
              "4     C  100245   0.885770  ...     0.267251    0.280813 -0.049503\n",
              "5     B  109730   0.921015  ...     0.304178    0.212541  0.358476\n",
              "6     A   59759   0.961044  ...     0.172855    0.057090  1.107830\n",
              "\n",
              "[7 rows x 9 columns]"
            ]
          },
          "metadata": {},
          "execution_count": 34
        }
      ]
    },
    {
      "cell_type": "code",
      "metadata": {
        "colab": {
          "base_uri": "https://localhost:8080/",
          "height": 268
        },
        "id": "fVg63o_wAcYL",
        "outputId": "62d8a690-0419-4d78-81ef-c1e162b7f60f"
      },
      "source": [
        "df1['diff_prop_good'] = df1['prop_good'].diff().abs()\n",
        "# We take the difference between two subsequent values of a column. Then, we take the absolute value of the result.\n",
        "df1['diff_WoE'] = df1['WoE'].diff().abs()\n",
        "# We take the difference between two subsequent values of a column. Then, we take the absolute value of the result.\n",
        "df1"
      ],
      "execution_count": null,
      "outputs": [
        {
          "output_type": "execute_result",
          "data": {
            "text/html": [
              "<div>\n",
              "<style scoped>\n",
              "    .dataframe tbody tr th:only-of-type {\n",
              "        vertical-align: middle;\n",
              "    }\n",
              "\n",
              "    .dataframe tbody tr th {\n",
              "        vertical-align: top;\n",
              "    }\n",
              "\n",
              "    .dataframe thead th {\n",
              "        text-align: right;\n",
              "    }\n",
              "</style>\n",
              "<table border=\"1\" class=\"dataframe\">\n",
              "  <thead>\n",
              "    <tr style=\"text-align: right;\">\n",
              "      <th></th>\n",
              "      <th>grade</th>\n",
              "      <th>n_obs</th>\n",
              "      <th>prop_good</th>\n",
              "      <th>prop_n_obs</th>\n",
              "      <th>n_good</th>\n",
              "      <th>n_bad</th>\n",
              "      <th>prop_n_good</th>\n",
              "      <th>prop_n_bad</th>\n",
              "      <th>WoE</th>\n",
              "      <th>diff_prop_good</th>\n",
              "      <th>diff_WoE</th>\n",
              "    </tr>\n",
              "  </thead>\n",
              "  <tbody>\n",
              "    <tr>\n",
              "      <th>0</th>\n",
              "      <td>G</td>\n",
              "      <td>2654</td>\n",
              "      <td>0.727958</td>\n",
              "      <td>0.007115</td>\n",
              "      <td>1932.0</td>\n",
              "      <td>722.0</td>\n",
              "      <td>0.005815</td>\n",
              "      <td>0.017706</td>\n",
              "      <td>-1.113459</td>\n",
              "      <td>NaN</td>\n",
              "      <td>NaN</td>\n",
              "    </tr>\n",
              "    <tr>\n",
              "      <th>1</th>\n",
              "      <td>F</td>\n",
              "      <td>10530</td>\n",
              "      <td>0.754416</td>\n",
              "      <td>0.028228</td>\n",
              "      <td>7944.0</td>\n",
              "      <td>2586.0</td>\n",
              "      <td>0.023910</td>\n",
              "      <td>0.063417</td>\n",
              "      <td>-0.975440</td>\n",
              "      <td>0.026458</td>\n",
              "      <td>0.138019</td>\n",
              "    </tr>\n",
              "    <tr>\n",
              "      <th>2</th>\n",
              "      <td>E</td>\n",
              "      <td>28612</td>\n",
              "      <td>0.805257</td>\n",
              "      <td>0.076702</td>\n",
              "      <td>23040.0</td>\n",
              "      <td>5572.0</td>\n",
              "      <td>0.069345</td>\n",
              "      <td>0.136642</td>\n",
              "      <td>-0.678267</td>\n",
              "      <td>0.050841</td>\n",
              "      <td>0.297173</td>\n",
              "    </tr>\n",
              "    <tr>\n",
              "      <th>3</th>\n",
              "      <td>D</td>\n",
              "      <td>61498</td>\n",
              "      <td>0.846304</td>\n",
              "      <td>0.164862</td>\n",
              "      <td>52046.0</td>\n",
              "      <td>9452.0</td>\n",
              "      <td>0.156647</td>\n",
              "      <td>0.231792</td>\n",
              "      <td>-0.391843</td>\n",
              "      <td>0.041047</td>\n",
              "      <td>0.286424</td>\n",
              "    </tr>\n",
              "    <tr>\n",
              "      <th>4</th>\n",
              "      <td>C</td>\n",
              "      <td>100245</td>\n",
              "      <td>0.885770</td>\n",
              "      <td>0.268733</td>\n",
              "      <td>88794.0</td>\n",
              "      <td>11451.0</td>\n",
              "      <td>0.267251</td>\n",
              "      <td>0.280813</td>\n",
              "      <td>-0.049503</td>\n",
              "      <td>0.039466</td>\n",
              "      <td>0.342340</td>\n",
              "    </tr>\n",
              "    <tr>\n",
              "      <th>5</th>\n",
              "      <td>B</td>\n",
              "      <td>109730</td>\n",
              "      <td>0.921015</td>\n",
              "      <td>0.294160</td>\n",
              "      <td>101063.0</td>\n",
              "      <td>8667.0</td>\n",
              "      <td>0.304178</td>\n",
              "      <td>0.212541</td>\n",
              "      <td>0.358476</td>\n",
              "      <td>0.035245</td>\n",
              "      <td>0.407979</td>\n",
              "    </tr>\n",
              "    <tr>\n",
              "      <th>6</th>\n",
              "      <td>A</td>\n",
              "      <td>59759</td>\n",
              "      <td>0.961044</td>\n",
              "      <td>0.160200</td>\n",
              "      <td>57431.0</td>\n",
              "      <td>2328.0</td>\n",
              "      <td>0.172855</td>\n",
              "      <td>0.057090</td>\n",
              "      <td>1.107830</td>\n",
              "      <td>0.040028</td>\n",
              "      <td>0.749353</td>\n",
              "    </tr>\n",
              "  </tbody>\n",
              "</table>\n",
              "</div>"
            ],
            "text/plain": [
              "  grade   n_obs  prop_good  ...       WoE  diff_prop_good  diff_WoE\n",
              "0     G    2654   0.727958  ... -1.113459             NaN       NaN\n",
              "1     F   10530   0.754416  ... -0.975440        0.026458  0.138019\n",
              "2     E   28612   0.805257  ... -0.678267        0.050841  0.297173\n",
              "3     D   61498   0.846304  ... -0.391843        0.041047  0.286424\n",
              "4     C  100245   0.885770  ... -0.049503        0.039466  0.342340\n",
              "5     B  109730   0.921015  ...  0.358476        0.035245  0.407979\n",
              "6     A   59759   0.961044  ...  1.107830        0.040028  0.749353\n",
              "\n",
              "[7 rows x 11 columns]"
            ]
          },
          "metadata": {},
          "execution_count": 35
        }
      ]
    },
    {
      "cell_type": "code",
      "metadata": {
        "colab": {
          "base_uri": "https://localhost:8080/",
          "height": 268
        },
        "id": "GL-fH99kAe81",
        "outputId": "cd0150be-ae73-4d2a-ba84-2f777844970e"
      },
      "source": [
        "df1['IV'] = (df1['prop_n_good'] - df1['prop_n_bad']) * df1['WoE']\n",
        "df1['IV'] = df1['IV'].sum()\n",
        "# We sum all values of a given column.\n",
        "df1"
      ],
      "execution_count": null,
      "outputs": [
        {
          "output_type": "execute_result",
          "data": {
            "text/html": [
              "<div>\n",
              "<style scoped>\n",
              "    .dataframe tbody tr th:only-of-type {\n",
              "        vertical-align: middle;\n",
              "    }\n",
              "\n",
              "    .dataframe tbody tr th {\n",
              "        vertical-align: top;\n",
              "    }\n",
              "\n",
              "    .dataframe thead th {\n",
              "        text-align: right;\n",
              "    }\n",
              "</style>\n",
              "<table border=\"1\" class=\"dataframe\">\n",
              "  <thead>\n",
              "    <tr style=\"text-align: right;\">\n",
              "      <th></th>\n",
              "      <th>grade</th>\n",
              "      <th>n_obs</th>\n",
              "      <th>prop_good</th>\n",
              "      <th>prop_n_obs</th>\n",
              "      <th>n_good</th>\n",
              "      <th>n_bad</th>\n",
              "      <th>prop_n_good</th>\n",
              "      <th>prop_n_bad</th>\n",
              "      <th>WoE</th>\n",
              "      <th>diff_prop_good</th>\n",
              "      <th>diff_WoE</th>\n",
              "      <th>IV</th>\n",
              "    </tr>\n",
              "  </thead>\n",
              "  <tbody>\n",
              "    <tr>\n",
              "      <th>0</th>\n",
              "      <td>G</td>\n",
              "      <td>2654</td>\n",
              "      <td>0.727958</td>\n",
              "      <td>0.007115</td>\n",
              "      <td>1932.0</td>\n",
              "      <td>722.0</td>\n",
              "      <td>0.005815</td>\n",
              "      <td>0.017706</td>\n",
              "      <td>-1.113459</td>\n",
              "      <td>NaN</td>\n",
              "      <td>NaN</td>\n",
              "      <td>0.288636</td>\n",
              "    </tr>\n",
              "    <tr>\n",
              "      <th>1</th>\n",
              "      <td>F</td>\n",
              "      <td>10530</td>\n",
              "      <td>0.754416</td>\n",
              "      <td>0.028228</td>\n",
              "      <td>7944.0</td>\n",
              "      <td>2586.0</td>\n",
              "      <td>0.023910</td>\n",
              "      <td>0.063417</td>\n",
              "      <td>-0.975440</td>\n",
              "      <td>0.026458</td>\n",
              "      <td>0.138019</td>\n",
              "      <td>0.288636</td>\n",
              "    </tr>\n",
              "    <tr>\n",
              "      <th>2</th>\n",
              "      <td>E</td>\n",
              "      <td>28612</td>\n",
              "      <td>0.805257</td>\n",
              "      <td>0.076702</td>\n",
              "      <td>23040.0</td>\n",
              "      <td>5572.0</td>\n",
              "      <td>0.069345</td>\n",
              "      <td>0.136642</td>\n",
              "      <td>-0.678267</td>\n",
              "      <td>0.050841</td>\n",
              "      <td>0.297173</td>\n",
              "      <td>0.288636</td>\n",
              "    </tr>\n",
              "    <tr>\n",
              "      <th>3</th>\n",
              "      <td>D</td>\n",
              "      <td>61498</td>\n",
              "      <td>0.846304</td>\n",
              "      <td>0.164862</td>\n",
              "      <td>52046.0</td>\n",
              "      <td>9452.0</td>\n",
              "      <td>0.156647</td>\n",
              "      <td>0.231792</td>\n",
              "      <td>-0.391843</td>\n",
              "      <td>0.041047</td>\n",
              "      <td>0.286424</td>\n",
              "      <td>0.288636</td>\n",
              "    </tr>\n",
              "    <tr>\n",
              "      <th>4</th>\n",
              "      <td>C</td>\n",
              "      <td>100245</td>\n",
              "      <td>0.885770</td>\n",
              "      <td>0.268733</td>\n",
              "      <td>88794.0</td>\n",
              "      <td>11451.0</td>\n",
              "      <td>0.267251</td>\n",
              "      <td>0.280813</td>\n",
              "      <td>-0.049503</td>\n",
              "      <td>0.039466</td>\n",
              "      <td>0.342340</td>\n",
              "      <td>0.288636</td>\n",
              "    </tr>\n",
              "    <tr>\n",
              "      <th>5</th>\n",
              "      <td>B</td>\n",
              "      <td>109730</td>\n",
              "      <td>0.921015</td>\n",
              "      <td>0.294160</td>\n",
              "      <td>101063.0</td>\n",
              "      <td>8667.0</td>\n",
              "      <td>0.304178</td>\n",
              "      <td>0.212541</td>\n",
              "      <td>0.358476</td>\n",
              "      <td>0.035245</td>\n",
              "      <td>0.407979</td>\n",
              "      <td>0.288636</td>\n",
              "    </tr>\n",
              "    <tr>\n",
              "      <th>6</th>\n",
              "      <td>A</td>\n",
              "      <td>59759</td>\n",
              "      <td>0.961044</td>\n",
              "      <td>0.160200</td>\n",
              "      <td>57431.0</td>\n",
              "      <td>2328.0</td>\n",
              "      <td>0.172855</td>\n",
              "      <td>0.057090</td>\n",
              "      <td>1.107830</td>\n",
              "      <td>0.040028</td>\n",
              "      <td>0.749353</td>\n",
              "      <td>0.288636</td>\n",
              "    </tr>\n",
              "  </tbody>\n",
              "</table>\n",
              "</div>"
            ],
            "text/plain": [
              "  grade   n_obs  prop_good  ...  diff_prop_good  diff_WoE        IV\n",
              "0     G    2654   0.727958  ...             NaN       NaN  0.288636\n",
              "1     F   10530   0.754416  ...        0.026458  0.138019  0.288636\n",
              "2     E   28612   0.805257  ...        0.050841  0.297173  0.288636\n",
              "3     D   61498   0.846304  ...        0.041047  0.286424  0.288636\n",
              "4     C  100245   0.885770  ...        0.039466  0.342340  0.288636\n",
              "5     B  109730   0.921015  ...        0.035245  0.407979  0.288636\n",
              "6     A   59759   0.961044  ...        0.040028  0.749353  0.288636\n",
              "\n",
              "[7 rows x 12 columns]"
            ]
          },
          "metadata": {},
          "execution_count": 36
        }
      ]
    },
    {
      "cell_type": "markdown",
      "metadata": {
        "id": "hIB82qBZAxpK"
      },
      "source": [
        "### Preprocessing Discrete Variables: Automating Calculaions"
      ]
    },
    {
      "cell_type": "code",
      "metadata": {
        "id": "5TQWB9-NAhFX"
      },
      "source": [
        "# WoE function for discrete unordered variables\n",
        "def woe_discrete(df, discrete_variabe_name, good_bad_variable_df):\n",
        "    df = pd.concat([df[discrete_variabe_name], good_bad_variable_df], axis = 1)\n",
        "    df = pd.concat([df.groupby(df.columns.values[0], as_index = False)[df.columns.values[1]].count(),\n",
        "                    df.groupby(df.columns.values[0], as_index = False)[df.columns.values[1]].mean()], axis = 1)\n",
        "    df = df.iloc[:, [0, 1, 3]]\n",
        "    df.columns = [df.columns.values[0], 'n_obs', 'prop_good']\n",
        "    df['prop_n_obs'] = df['n_obs'] / df['n_obs'].sum()\n",
        "    df['n_good'] = df['prop_good'] * df['n_obs']\n",
        "    df['n_bad'] = (1 - df['prop_good']) * df['n_obs']\n",
        "    df['prop_n_good'] = df['n_good'] / df['n_good'].sum()\n",
        "    df['prop_n_bad'] = df['n_bad'] / df['n_bad'].sum()\n",
        "    df['WoE'] = np.log(df['prop_n_good'] / df['prop_n_bad'])\n",
        "    df = df.sort_values(['WoE'])\n",
        "    df = df.reset_index(drop = True)\n",
        "    df['diff_prop_good'] = df['prop_good'].diff().abs()\n",
        "    df['diff_WoE'] = df['WoE'].diff().abs()\n",
        "    df['IV'] = (df['prop_n_good'] - df['prop_n_bad']) * df['WoE']\n",
        "    df['IV'] = df['IV'].sum()\n",
        "    return df\n",
        "# Here we combine all of the operations above in a function.\n",
        "# The function takes 3 arguments: a dataframe, a string, and a dataframe. The function returns a dataframe as a result."
      ],
      "execution_count": null,
      "outputs": []
    },
    {
      "cell_type": "code",
      "metadata": {
        "colab": {
          "base_uri": "https://localhost:8080/",
          "height": 268
        },
        "id": "UcCiuMQqA6-x",
        "outputId": "9f87db3a-d9d7-45a6-9648-9168734da2c0"
      },
      "source": [
        "# 'grade'\n",
        "df_temp = woe_discrete(df_inputs_prepr, 'grade', df_targets_prepr)\n",
        "# We execute the function we defined with the necessary arguments: a dataframe, a string, and a dataframe.\n",
        "# We store the result in a dataframe.\n",
        "df_temp"
      ],
      "execution_count": null,
      "outputs": [
        {
          "output_type": "execute_result",
          "data": {
            "text/html": [
              "<div>\n",
              "<style scoped>\n",
              "    .dataframe tbody tr th:only-of-type {\n",
              "        vertical-align: middle;\n",
              "    }\n",
              "\n",
              "    .dataframe tbody tr th {\n",
              "        vertical-align: top;\n",
              "    }\n",
              "\n",
              "    .dataframe thead th {\n",
              "        text-align: right;\n",
              "    }\n",
              "</style>\n",
              "<table border=\"1\" class=\"dataframe\">\n",
              "  <thead>\n",
              "    <tr style=\"text-align: right;\">\n",
              "      <th></th>\n",
              "      <th>grade</th>\n",
              "      <th>n_obs</th>\n",
              "      <th>prop_good</th>\n",
              "      <th>prop_n_obs</th>\n",
              "      <th>n_good</th>\n",
              "      <th>n_bad</th>\n",
              "      <th>prop_n_good</th>\n",
              "      <th>prop_n_bad</th>\n",
              "      <th>WoE</th>\n",
              "      <th>diff_prop_good</th>\n",
              "      <th>diff_WoE</th>\n",
              "      <th>IV</th>\n",
              "    </tr>\n",
              "  </thead>\n",
              "  <tbody>\n",
              "    <tr>\n",
              "      <th>0</th>\n",
              "      <td>G</td>\n",
              "      <td>2654</td>\n",
              "      <td>0.727958</td>\n",
              "      <td>0.007115</td>\n",
              "      <td>1932.0</td>\n",
              "      <td>722.0</td>\n",
              "      <td>0.005815</td>\n",
              "      <td>0.017706</td>\n",
              "      <td>-1.113459</td>\n",
              "      <td>NaN</td>\n",
              "      <td>NaN</td>\n",
              "      <td>0.288636</td>\n",
              "    </tr>\n",
              "    <tr>\n",
              "      <th>1</th>\n",
              "      <td>F</td>\n",
              "      <td>10530</td>\n",
              "      <td>0.754416</td>\n",
              "      <td>0.028228</td>\n",
              "      <td>7944.0</td>\n",
              "      <td>2586.0</td>\n",
              "      <td>0.023910</td>\n",
              "      <td>0.063417</td>\n",
              "      <td>-0.975440</td>\n",
              "      <td>0.026458</td>\n",
              "      <td>0.138019</td>\n",
              "      <td>0.288636</td>\n",
              "    </tr>\n",
              "    <tr>\n",
              "      <th>2</th>\n",
              "      <td>E</td>\n",
              "      <td>28612</td>\n",
              "      <td>0.805257</td>\n",
              "      <td>0.076702</td>\n",
              "      <td>23040.0</td>\n",
              "      <td>5572.0</td>\n",
              "      <td>0.069345</td>\n",
              "      <td>0.136642</td>\n",
              "      <td>-0.678267</td>\n",
              "      <td>0.050841</td>\n",
              "      <td>0.297173</td>\n",
              "      <td>0.288636</td>\n",
              "    </tr>\n",
              "    <tr>\n",
              "      <th>3</th>\n",
              "      <td>D</td>\n",
              "      <td>61498</td>\n",
              "      <td>0.846304</td>\n",
              "      <td>0.164862</td>\n",
              "      <td>52046.0</td>\n",
              "      <td>9452.0</td>\n",
              "      <td>0.156647</td>\n",
              "      <td>0.231792</td>\n",
              "      <td>-0.391843</td>\n",
              "      <td>0.041047</td>\n",
              "      <td>0.286424</td>\n",
              "      <td>0.288636</td>\n",
              "    </tr>\n",
              "    <tr>\n",
              "      <th>4</th>\n",
              "      <td>C</td>\n",
              "      <td>100245</td>\n",
              "      <td>0.885770</td>\n",
              "      <td>0.268733</td>\n",
              "      <td>88794.0</td>\n",
              "      <td>11451.0</td>\n",
              "      <td>0.267251</td>\n",
              "      <td>0.280813</td>\n",
              "      <td>-0.049503</td>\n",
              "      <td>0.039466</td>\n",
              "      <td>0.342340</td>\n",
              "      <td>0.288636</td>\n",
              "    </tr>\n",
              "    <tr>\n",
              "      <th>5</th>\n",
              "      <td>B</td>\n",
              "      <td>109730</td>\n",
              "      <td>0.921015</td>\n",
              "      <td>0.294160</td>\n",
              "      <td>101063.0</td>\n",
              "      <td>8667.0</td>\n",
              "      <td>0.304178</td>\n",
              "      <td>0.212541</td>\n",
              "      <td>0.358476</td>\n",
              "      <td>0.035245</td>\n",
              "      <td>0.407979</td>\n",
              "      <td>0.288636</td>\n",
              "    </tr>\n",
              "    <tr>\n",
              "      <th>6</th>\n",
              "      <td>A</td>\n",
              "      <td>59759</td>\n",
              "      <td>0.961044</td>\n",
              "      <td>0.160200</td>\n",
              "      <td>57431.0</td>\n",
              "      <td>2328.0</td>\n",
              "      <td>0.172855</td>\n",
              "      <td>0.057090</td>\n",
              "      <td>1.107830</td>\n",
              "      <td>0.040028</td>\n",
              "      <td>0.749353</td>\n",
              "      <td>0.288636</td>\n",
              "    </tr>\n",
              "  </tbody>\n",
              "</table>\n",
              "</div>"
            ],
            "text/plain": [
              "  grade   n_obs  prop_good  ...  diff_prop_good  diff_WoE        IV\n",
              "0     G    2654   0.727958  ...             NaN       NaN  0.288636\n",
              "1     F   10530   0.754416  ...        0.026458  0.138019  0.288636\n",
              "2     E   28612   0.805257  ...        0.050841  0.297173  0.288636\n",
              "3     D   61498   0.846304  ...        0.041047  0.286424  0.288636\n",
              "4     C  100245   0.885770  ...        0.039466  0.342340  0.288636\n",
              "5     B  109730   0.921015  ...        0.035245  0.407979  0.288636\n",
              "6     A   59759   0.961044  ...        0.040028  0.749353  0.288636\n",
              "\n",
              "[7 rows x 12 columns]"
            ]
          },
          "metadata": {},
          "execution_count": 38
        }
      ]
    },
    {
      "cell_type": "markdown",
      "metadata": {
        "id": "QNA43pWBBJTa"
      },
      "source": [
        "### Preprocessing Discrete Variables: Visualizing Results"
      ]
    },
    {
      "cell_type": "code",
      "metadata": {
        "id": "_UUzelt5A_q-"
      },
      "source": [
        "import matplotlib.pyplot as plt\n",
        "import seaborn as sns\n",
        "# Imports the libraries we need.\n",
        "sns.set()\n",
        "# We set the default style of the graphs to the seaborn style. "
      ],
      "execution_count": null,
      "outputs": []
    },
    {
      "cell_type": "code",
      "metadata": {
        "id": "fykowfnhBFxc"
      },
      "source": [
        "# Below we define a function that takes 2 arguments: a dataframe and a number.\n",
        "# The number parameter has a default value of 0.\n",
        "# This means that if we call the function and omit the number parameter, it will be executed with it having a value of 0.\n",
        "# The function displays a graph.\n",
        "def plot_by_woe(df_WoE, rotation_of_x_axis_labels = 0):\n",
        "    x = np.array(df_WoE.iloc[:, 0].apply(str))\n",
        "    # Turns the values of the column with index 0 to strings, makes an array from these strings, and passes it to variable x.\n",
        "    y = df_WoE['WoE']\n",
        "    # Selects a column with label 'WoE' and passes it to variable y.\n",
        "    plt.figure(figsize=(18, 6))\n",
        "    # Sets the graph size to width 18 x height 6.\n",
        "    plt.plot(x, y, marker = 'o', linestyle = '--', color = 'k')\n",
        "    # Plots the datapoints with coordiantes variable x on the x-axis and variable y on the y-axis.\n",
        "    # Sets the marker for each datapoint to a circle, the style line between the points to dashed, and the color to black.\n",
        "    plt.xlabel(df_WoE.columns[0])\n",
        "    # Names the x-axis with the name of the column with index 0.\n",
        "    plt.ylabel('Weight of Evidence')\n",
        "    # Names the y-axis 'Weight of Evidence'.\n",
        "    plt.title(str('Weight of Evidence by ' + df_WoE.columns[0]))\n",
        "    # Names the grapth 'Weight of Evidence by ' the name of the column with index 0.\n",
        "    plt.xticks(rotation = rotation_of_x_axis_labels)\n",
        "    # Rotates the labels of the x-axis a predefined number of degrees."
      ],
      "execution_count": null,
      "outputs": []
    },
    {
      "cell_type": "code",
      "metadata": {
        "colab": {
          "base_uri": "https://localhost:8080/",
          "height": 410
        },
        "id": "lwscuLkMBIED",
        "outputId": "e7fe71fe-34dc-452f-d265-6cfe2b21b0b7"
      },
      "source": [
        "plot_by_woe(df_temp)\n",
        "# We execute the function we defined with the necessary arguments: a dataframe.\n",
        "# We omit the number argument, which means the function will use its default value, 0."
      ],
      "execution_count": null,
      "outputs": [
        {
          "output_type": "display_data",
          "data": {
            "image/png": "[encoded data removed]",
            "text/plain": [
              "<Figure size 1296x432 with 1 Axes>"
            ]
          },
          "metadata": {}
        }
      ]
    },
    {
      "cell_type": "code",
      "metadata": {
        "id": "nGsSiDlSBQzP"
      },
      "source": [
        ""
      ],
      "execution_count": null,
      "outputs": []
    }
  ]
}